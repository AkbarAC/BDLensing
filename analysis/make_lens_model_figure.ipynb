{
 "cells": [
  {
   "cell_type": "code",
   "execution_count": 1,
   "id": "initial_id",
   "metadata": {
    "collapsed": true,
    "ExecuteTime": {
     "end_time": "2023-11-24T18:12:42.232943Z",
     "start_time": "2023-11-24T18:12:41.480473Z"
    }
   },
   "outputs": [],
   "source": [
    "import coloripy as cp\n",
    "import joblib\n",
    "import matplotlib as mpl\n",
    "import matplotlib.pyplot as plt\n",
    "import paperfig as pf\n",
    "import seaborn as sns\n",
    "from lenstronomy.Plots.model_plot import ModelPlot"
   ]
  },
  {
   "cell_type": "markdown",
   "source": [
    "## Plot settings"
   ],
   "metadata": {
    "collapsed": false
   },
   "id": "8d333d2d89f18020"
  },
  {
   "cell_type": "code",
   "execution_count": 2,
   "outputs": [],
   "source": [
    "save_figure = True"
   ],
   "metadata": {
    "collapsed": false,
    "ExecuteTime": {
     "end_time": "2023-11-24T18:12:42.236396Z",
     "start_time": "2023-11-24T18:12:42.234095Z"
    }
   },
   "id": "96c63c6cd8fa52b5"
  },
  {
   "cell_type": "code",
   "execution_count": 3,
   "outputs": [],
   "source": [
    "pf.set_fontscale(2.0)\n",
    "\n",
    "# for MNRAS\n",
    "mpl.rcParams[\"ps.fonttype\"] = 42\n",
    "\n",
    "# to change tex to Times New Roman in mpl\n",
    "plt.rcParams[\"font.family\"] = \"serif\"\n",
    "plt.rcParams[\"font.serif\"] = \"Times New Roman\"\n",
    "plt.rcParams[\"mathtext.rm\"] = \"serif\"\n",
    "plt.rcParams[\"mathtext.it\"] = \"serif:italic\"\n",
    "plt.rcParams[\"mathtext.bf\"] = \"serif:bold\"\n",
    "plt.rcParams[\"mathtext.fontset\"] = \"custom\"\n",
    "\n",
    "\n",
    "sns.set(style=\"ticks\", context=\"paper\", font=\"Times New Roman\", font_scale=2.0)\n",
    "# sns.set_context('talk')\n",
    "sns.set_style(\n",
    "    {\n",
    "        \"xtick.direction\": \"in\",\n",
    "        \"ytick.direction\": \"in\",\n",
    "        \"axes.linewidth\": 2.0,\n",
    "    }\n",
    ")\n",
    "# sns.set_palette('Set2')\n",
    "\n",
    "cmap = sns.cubehelix_palette(\n",
    "    start=0.5,\n",
    "    rot=-1.5,\n",
    "    gamma=1,\n",
    "    hue=1,\n",
    "    light=-0.6,\n",
    "    dark=0.8,\n",
    "    reverse=False,\n",
    "    as_cmap=True,\n",
    ")\n",
    "cmap2 = sns.cubehelix_palette(\n",
    "    start=0.5,\n",
    "    rot=-1.5,\n",
    "    gamma=1,\n",
    "    hue=1,\n",
    "    light=-0.2,\n",
    "    dark=1.0,\n",
    "    reverse=False,\n",
    "    as_cmap=True,\n",
    ")\n",
    "\n",
    "msh_cmap = cp.get_msh_cmap(num_bins=501, rescale=\"power\", power=2.5)"
   ],
   "metadata": {
    "collapsed": false,
    "ExecuteTime": {
     "end_time": "2023-11-24T18:12:42.293565Z",
     "start_time": "2023-11-24T18:12:42.239804Z"
    }
   },
   "id": "593bb3114a35fcbd"
  },
  {
   "cell_type": "markdown",
   "source": [
    "# Plot"
   ],
   "metadata": {
    "collapsed": false
   },
   "id": "3aa0735730a20557"
  },
  {
   "cell_type": "code",
   "execution_count": 4,
   "outputs": [],
   "source": [
    "lens_names = [\n",
    "    \"DESIJ0201-2739\",\n",
    "    \"DESIJ1018-0121\",\n",
    "    \"DESIJ1205+4110\",\n",
    "    \"DESIJ1501+5208\",\n",
    "    \"DESIJ1537+1443\",\n",
    "    \"DESIJ1624+0129\",\n",
    "    \"DESIJ1709+3154\",\n",
    "    \"DESIJ2158+0257\",\n",
    "]"
   ],
   "metadata": {
    "collapsed": false,
    "ExecuteTime": {
     "end_time": "2023-11-24T18:12:42.297088Z",
     "start_time": "2023-11-24T18:12:42.294966Z"
    }
   },
   "id": "59ff40e42c44f5fa"
  },
  {
   "cell_type": "code",
   "execution_count": null,
   "outputs": [
    {
     "name": "stdout",
     "output_type": "stream",
     "text": [
      "-1.0302142468050646 reduced X^2 of all evaluated imaging data combined (without degrees of freedom subtracted).\n",
      "reduced chi^2 of data  0 =  1.0302142468050643\n",
      "-0.9293203521319644 reduced X^2 of all evaluated imaging data combined (without degrees of freedom subtracted).\n",
      "reduced chi^2 of data  0 =  0.9293203521319653\n"
     ]
    },
    {
     "name": "stderr",
     "output_type": "stream",
     "text": [
      "/Users/ajshajib/PyCharm Projects/lenstronomy/lenstronomy/Plots/model_band_plot.py:63: RuntimeWarning: divide by zero encountered in log10\n",
      "  log_model = np.log10(model)\n",
      "/Users/ajshajib/PyCharm Projects/lenstronomy/lenstronomy/Plots/model_band_plot.py:156: RuntimeWarning: invalid value encountered in log10\n",
      "  np.log10(self._data),\n",
      "/Users/ajshajib/PyCharm Projects/lenstronomy/lenstronomy/Plots/model_band_plot.py:219: RuntimeWarning: divide by zero encountered in log10\n",
      "  np.log10(self._model),\n"
     ]
    },
    {
     "name": "stdout",
     "output_type": "stream",
     "text": [
      "-1.0316455300068974 reduced X^2 of all evaluated imaging data combined (without degrees of freedom subtracted).\n",
      "reduced chi^2 of data  0 =  1.0316455300069154\n"
     ]
    },
    {
     "name": "stderr",
     "output_type": "stream",
     "text": [
      "/Users/ajshajib/PyCharm Projects/lenstronomy/lenstronomy/Plots/model_band_plot.py:63: RuntimeWarning: invalid value encountered in log10\n",
      "  log_model = np.log10(model)\n",
      "/Users/ajshajib/PyCharm Projects/lenstronomy/lenstronomy/Plots/model_band_plot.py:219: RuntimeWarning: invalid value encountered in log10\n",
      "  np.log10(self._model),\n"
     ]
    },
    {
     "name": "stdout",
     "output_type": "stream",
     "text": [
      "-0.8182635108569798 reduced X^2 of all evaluated imaging data combined (without degrees of freedom subtracted).\n",
      "reduced chi^2 of data  0 =  0.8182635108569909\n",
      "Failed to load DESIJ1537+1443\n",
      "-0.8037324972247483 reduced X^2 of all evaluated imaging data combined (without degrees of freedom subtracted).\n",
      "reduced chi^2 of data  0 =  0.8037324972247406\n",
      "-0.9414195801591679 reduced X^2 of all evaluated imaging data combined (without degrees of freedom subtracted).\n",
      "reduced chi^2 of data  0 =  0.9414195801591441\n",
      "-0.9780014635474031 reduced X^2 of all evaluated imaging data combined (without degrees of freedom subtracted).\n",
      "reduced chi^2 of data  0 =  0.9780014635474029\n"
     ]
    },
    {
     "name": "stderr",
     "output_type": "stream",
     "text": [
      "/var/folders/ry/23z2z0bd7_d814t1jlq8ydlw0000gn/T/ipykernel_7516/1439304342.py:63: UserWarning: Tight layout not applied. tight_layout cannot make axes width small enough to accommodate all axes decorations\n",
      "  fig.tight_layout()\n"
     ]
    }
   ],
   "source": [
    "custom_log_likelihood_addition = None\n",
    "\n",
    "num_lens = len(lens_names)\n",
    "\n",
    "fig, axes = plt.subplots(\n",
    "    nrows=num_lens,\n",
    "    ncols=5,\n",
    "    figsize=(6*3, num_lens*3),\n",
    "    # sharex=True,\n",
    "    # sharey=True,\n",
    "    # gridspec_kw={\"wspace\": 0.05, \"hspace\": 0.05},\n",
    ")\n",
    "\n",
    "for i in range(num_lens):\n",
    "    lens_name = lens_names[i]\n",
    "\n",
    "    output_path = f\"../lens_systems/{lens_name}/{lens_name}_mcmc_output.joblib\"\n",
    "\n",
    "    try:\n",
    "        with open(output_path, \"rb\") as f:\n",
    "            [input, output] = joblib.load(f)\n",
    "            [kwargs_result_mcmc, multi_band_list_out, kwargs_fixed_out] = output\n",
    "            [\n",
    "                fitting_kwargs_list_mcmc,\n",
    "                multi_band_list,\n",
    "                kwargs_model,\n",
    "                kwargs_constraints,\n",
    "                kwargs_likelihood,\n",
    "                kwargs_params,\n",
    "                init_samples,\n",
    "            ] = input\n",
    "    except AttributeError:\n",
    "        print(f\"Failed to load {lens_name}\")\n",
    "        continue\n",
    "\n",
    "        # print(kwargs_likelihood)\n",
    "\n",
    "    model_plot = ModelPlot(\n",
    "        multi_band_list,\n",
    "        kwargs_model,\n",
    "        kwargs_result_mcmc,\n",
    "        arrow_size=0.02,\n",
    "        cmap_string=\"cubehelix\",\n",
    "        image_likelihood_mask_list=kwargs_likelihood[\"image_likelihood_mask_list\"],\n",
    "        linear_solver=kwargs_constraints.get(\"linear_solver\", True),\n",
    "    )\n",
    "\n",
    "    model_plot.data_plot(ax=axes[i, 0], text=lens_name[4:14], vmin=-6, vmax=1.5)\n",
    "    model_plot.model_plot(ax=axes[i, 1], vmin=-6, vmax=1.5)\n",
    "    model_plot.normalized_residual_plot(\n",
    "        ax=axes[i, 2], v_min=-3, v_max=3, cmap=\"RdBu_r\", text=\"Normalized residual\"\n",
    "    )\n",
    "    model_plot.source_plot(\n",
    "        ax=axes[i, 3],\n",
    "        deltaPix_source=0.02,\n",
    "        numPix=100,\n",
    "        with_caustics=True,\n",
    "        scale_size=0.5,\n",
    "    )\n",
    "    # model_plot.convergence_plot(ax=axes[i, 3], v_max=1, cmap=\"gist_heat\")\n",
    "    model_plot.magnification_plot(ax=axes[i, 4], cmap=\"PiYG\")\n",
    "\n",
    "fig.tight_layout()\n",
    "\n",
    "# plt.gca().set_axis_off()\n",
    "# plt.subplots_adjust(top = 1, bottom = 0, right = 1, left = 0, \n",
    "#             hspace = 0, wspace = 0)\n",
    "# plt.margins(0,0)\n",
    "# plt.gca().xaxis.set_major_locator(plt.NullLocator())\n",
    "# plt.gca().yaxis.set_major_locator(plt.NullLocator())\n",
    "\n",
    "fig.savefig(\"../paper/figures/lens_models.pdf\", bbox_inches=\"tight\", \n",
    "            # pad_inches=0\n",
    "            )"
   ],
   "metadata": {
    "collapsed": false,
    "is_executing": true,
    "ExecuteTime": {
     "start_time": "2023-11-24T18:12:57.705146Z"
    }
   },
   "id": "ddd82c1c2e6a5174"
  },
  {
   "cell_type": "code",
   "execution_count": 5,
   "outputs": [],
   "source": [],
   "metadata": {
    "collapsed": false,
    "ExecuteTime": {
     "end_time": "2023-11-24T18:12:47.500084Z",
     "start_time": "2023-11-24T18:12:47.499741Z"
    }
   },
   "id": "68b3dcb04e6078ec"
  },
  {
   "cell_type": "code",
   "execution_count": 5,
   "outputs": [],
   "source": [],
   "metadata": {
    "collapsed": false,
    "ExecuteTime": {
     "end_time": "2023-11-24T18:12:47.500114Z",
     "start_time": "2023-11-24T18:12:47.499845Z"
    }
   },
   "id": "a54ffc7add29ca8b"
  }
 ],
 "metadata": {
  "kernelspec": {
   "display_name": "Python 3",
   "language": "python",
   "name": "python3"
  },
  "language_info": {
   "codemirror_mode": {
    "name": "ipython",
    "version": 2
   },
   "file_extension": ".py",
   "mimetype": "text/x-python",
   "name": "python",
   "nbconvert_exporter": "python",
   "pygments_lexer": "ipython2",
   "version": "2.7.6"
  }
 },
 "nbformat": 4,
 "nbformat_minor": 5
}
